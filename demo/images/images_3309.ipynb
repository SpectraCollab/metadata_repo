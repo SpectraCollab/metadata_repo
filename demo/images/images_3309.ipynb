{
 "cells": [
  {
   "cell_type": "markdown",
   "metadata": {},
   "source": [
    "# Image metadata\n",
    "\n",
    "In this notebook, we:\n",
    "- Read the headers of .isq images in a folder and extract the information (metadata)\n",
    "- Organize the metadata in a table (Pandas dataframe)\n",
    "- Save the metadata in a tabular format (.xlsx or .csv)\n",
    "\n",
    "Note: Run a separate notebook per each image folder\n",
    "\n",
    "By Serena Bonaretti\n",
    "\n",
    "---"
   ]
  },
  {
   "cell_type": "markdown",
   "metadata": {},
   "source": [
    "Imports and variables:"
   ]
  },
  {
   "cell_type": "code",
   "execution_count": 1,
   "metadata": {},
   "outputs": [],
   "source": [
    "import os\n",
    "import pandas as pd\n",
    "from pymsk import scanco_read_files"
   ]
  },
  {
   "cell_type": "code",
   "execution_count": 2,
   "metadata": {},
   "outputs": [],
   "source": [
    "isq_folder = \"./images/images_3309/\""
   ]
  },
  {
   "cell_type": "markdown",
   "metadata": {},
   "source": [
    "---\n",
    "## 1. Getting the names of the *.isq* files in the folder:"
   ]
  },
  {
   "cell_type": "code",
   "execution_count": 3,
   "metadata": {},
   "outputs": [
    {
     "name": "stdout",
     "output_type": "stream",
     "text": [
      "-> Found 3 .isq files in folder:\n"
     ]
    }
   ],
   "source": [
    "# getting the folder content\n",
    "folder_content = os.listdir(isq_folder)\n",
    "\n",
    "# creating the list for .isq file names\n",
    "isq_file_names = [] \n",
    "\n",
    "# getting only .isq files\n",
    "for file in folder_content: \n",
    "    \n",
    "    # getting file extensions\n",
    "    filename, file_extension = os.path.splitext(isq_folder + file)\n",
    "    \n",
    "    # get only the files with .isq or .ISQ file extension\n",
    "    if \"isq\" in file_extension or \"ISQ\" in file_extension:\n",
    "        isq_file_names.append(file)\n",
    "        \n",
    "print (\"-> Found \" + str(len(isq_file_names)) + \" .isq files in folder:\" )\n",
    "\n",
    "# for filename in isq_file_names:\n",
    "#     print (filename)"
   ]
  },
  {
   "cell_type": "markdown",
   "metadata": {},
   "source": [
    "---\n",
    "## 2. Extracting information from image headers  \n",
    "\n",
    "- To read the .isq file headers, we use the function `read_isq_header()` from `pymsk`  \n",
    "- For each image, we will get two lists: \n",
    "    - `keys`, containing all the information labels (e.g. *pixel_size_um*, etc.)\n",
    "    - `values`, containing all the actual values (e.g. *82*, etc.)  \n",
    "- Then we save the `keys` of the first image into the list `all_keys` - we do not need to save the keys for every image because they are the same   \n",
    "  The values in `all_keys` will become the column names of the table\n",
    "- Finally for each image, we add the list `values` to the list of lists `all_values`  \n",
    "  The values in `all_values` will become the content of the table"
   ]
  },
  {
   "cell_type": "code",
   "execution_count": 4,
   "metadata": {},
   "outputs": [],
   "source": [
    "# initializing list containing keys and values\n",
    "all_keys = []\n",
    "all_values = []\n",
    "\n",
    "# for each .isq file in the folder\n",
    "for i in range(0, len(isq_file_names)): \n",
    "       \n",
    "    # get keys and values from the header of the current image\n",
    "    current_keys, current_values = scanco_read_files.read_isq_header(isq_folder + isq_file_names[i]) \n",
    "\n",
    "    # save the keys of the first image in the variable all_keys\n",
    "    if i == 0:\n",
    "        all_keys = current_keys\n",
    "\n",
    "    # add the values of the current image header into all_values\n",
    "    all_values.append(current_values)"
   ]
  },
  {
   "cell_type": "markdown",
   "metadata": {},
   "source": [
    "--- \n",
    "## 3. Creating a metadata table \n",
    "\n",
    "- We want to create a metadata table containing image metadata from *.isq* headers    \n",
    "- To handle tables, we use the python package [Pandas](https://pandas.pydata.org/), imported at the beginning of the notebook"
   ]
  },
  {
   "cell_type": "code",
   "execution_count": 5,
   "metadata": {},
   "outputs": [],
   "source": [
    "# display all pandas columns and rows \n",
    "pd.options.display.max_rows    = None\n",
    "pd.options.display.max_columns = None"
   ]
  },
  {
   "cell_type": "code",
   "execution_count": 6,
   "metadata": {},
   "outputs": [
    {
     "data": {
      "text/html": [
       "<div>\n",
       "<style scoped>\n",
       "    .dataframe tbody tr th:only-of-type {\n",
       "        vertical-align: middle;\n",
       "    }\n",
       "\n",
       "    .dataframe tbody tr th {\n",
       "        vertical-align: top;\n",
       "    }\n",
       "\n",
       "    .dataframe thead th {\n",
       "        text-align: right;\n",
       "    }\n",
       "</style>\n",
       "<table border=\"1\" class=\"dataframe\">\n",
       "  <thead>\n",
       "    <tr style=\"text-align: right;\">\n",
       "      <th></th>\n",
       "      <th>file_name</th>\n",
       "      <th>check</th>\n",
       "      <th>data_type</th>\n",
       "      <th>nr_of_bytes</th>\n",
       "      <th>nr_of_blocks</th>\n",
       "      <th>pat_no</th>\n",
       "      <th>scanner_id</th>\n",
       "      <th>date</th>\n",
       "      <th>n_voxels_x</th>\n",
       "      <th>n_voxels_y</th>\n",
       "      <th>n_voxels_z</th>\n",
       "      <th>total_size_um_x</th>\n",
       "      <th>total_size_um_y</th>\n",
       "      <th>total_size_um_z</th>\n",
       "      <th>slice_thickness_um</th>\n",
       "      <th>pixel_size_um</th>\n",
       "      <th>slice_1_pos_um</th>\n",
       "      <th>min_intensity</th>\n",
       "      <th>max_intensity</th>\n",
       "      <th>mu_scaling</th>\n",
       "      <th>nr_of_samples</th>\n",
       "      <th>nr_of_projections</th>\n",
       "      <th>scan_dist_um</th>\n",
       "      <th>scanner_type</th>\n",
       "      <th>exposure_time</th>\n",
       "      <th>meas_no</th>\n",
       "      <th>site</th>\n",
       "      <th>reference_line_um</th>\n",
       "      <th>recon_algo</th>\n",
       "      <th>pat_name</th>\n",
       "      <th>energy_V</th>\n",
       "      <th>intensity_uA</th>\n",
       "      <th>data_offset</th>\n",
       "    </tr>\n",
       "  </thead>\n",
       "  <tbody>\n",
       "    <tr>\n",
       "      <th>0</th>\n",
       "      <td>C0008472.ISQ;1</td>\n",
       "      <td>CTDATA-HEADER_V1</td>\n",
       "      <td>3</td>\n",
       "      <td>0</td>\n",
       "      <td>506886</td>\n",
       "      <td>2745</td>\n",
       "      <td>3309</td>\n",
       "      <td>2011_12_22</td>\n",
       "      <td>768</td>\n",
       "      <td>768</td>\n",
       "      <td>220</td>\n",
       "      <td>62976</td>\n",
       "      <td>62976</td>\n",
       "      <td>18040</td>\n",
       "      <td>82</td>\n",
       "      <td>82</td>\n",
       "      <td>107081</td>\n",
       "      <td>-1695</td>\n",
       "      <td>10801</td>\n",
       "      <td>8192</td>\n",
       "      <td>1536</td>\n",
       "      <td>750</td>\n",
       "      <td>125952</td>\n",
       "      <td>9</td>\n",
       "      <td>100000</td>\n",
       "      <td>9538</td>\n",
       "      <td>4</td>\n",
       "      <td>0</td>\n",
       "      <td>3</td>\n",
       "      <td>EUA_001\u0000\u0000\u0000\u0000\u0000\u0000\u0000\u0000\u0000\u0000\u0000\u0000\u0000\u0000\u0000\u0000\u0000\u0000\u0000\u0000\u0000\u0000\u0000\u0000\u0000\u0000\u0000\u0000\u0000\u0000\u0000\u0000\u0000</td>\n",
       "      <td>59400</td>\n",
       "      <td>1000</td>\n",
       "      <td>0</td>\n",
       "    </tr>\n",
       "    <tr>\n",
       "      <th>1</th>\n",
       "      <td>C0010013.ISQ;1</td>\n",
       "      <td>CTDATA-HEADER_V1</td>\n",
       "      <td>3</td>\n",
       "      <td>1557138432</td>\n",
       "      <td>3041286</td>\n",
       "      <td>2746</td>\n",
       "      <td>3309</td>\n",
       "      <td>2012_02_10</td>\n",
       "      <td>1536</td>\n",
       "      <td>1536</td>\n",
       "      <td>330</td>\n",
       "      <td>125952</td>\n",
       "      <td>125952</td>\n",
       "      <td>27060</td>\n",
       "      <td>82</td>\n",
       "      <td>82</td>\n",
       "      <td>88161</td>\n",
       "      <td>-2913</td>\n",
       "      <td>11085</td>\n",
       "      <td>8192</td>\n",
       "      <td>1536</td>\n",
       "      <td>750</td>\n",
       "      <td>125952</td>\n",
       "      <td>9</td>\n",
       "      <td>100000</td>\n",
       "      <td>11111</td>\n",
       "      <td>4</td>\n",
       "      <td>0</td>\n",
       "      <td>3</td>\n",
       "      <td>EUA_002</td>\n",
       "      <td>59400</td>\n",
       "      <td>1000</td>\n",
       "      <td>5</td>\n",
       "    </tr>\n",
       "    <tr>\n",
       "      <th>2</th>\n",
       "      <td>CJS_R_C0012934.ISQ;1</td>\n",
       "      <td>CTDATA-HEADER_V1</td>\n",
       "      <td>3</td>\n",
       "      <td>1038093312</td>\n",
       "      <td>2027526</td>\n",
       "      <td>3643</td>\n",
       "      <td>3309</td>\n",
       "      <td>2013_10_01</td>\n",
       "      <td>1536</td>\n",
       "      <td>1536</td>\n",
       "      <td>220</td>\n",
       "      <td>125952</td>\n",
       "      <td>125952</td>\n",
       "      <td>18040</td>\n",
       "      <td>82</td>\n",
       "      <td>82</td>\n",
       "      <td>128525</td>\n",
       "      <td>-12332</td>\n",
       "      <td>20959</td>\n",
       "      <td>8192</td>\n",
       "      <td>1536</td>\n",
       "      <td>750</td>\n",
       "      <td>125952</td>\n",
       "      <td>9</td>\n",
       "      <td>100000</td>\n",
       "      <td>13628</td>\n",
       "      <td>4</td>\n",
       "      <td>0</td>\n",
       "      <td>3</td>\n",
       "      <td>CJS_3043R</td>\n",
       "      <td>59400</td>\n",
       "      <td>900</td>\n",
       "      <td>5</td>\n",
       "    </tr>\n",
       "  </tbody>\n",
       "</table>\n",
       "</div>"
      ],
      "text/plain": [
       "              file_name             check  data_type  nr_of_bytes  \\\n",
       "0        C0008472.ISQ;1  CTDATA-HEADER_V1          3            0   \n",
       "1        C0010013.ISQ;1  CTDATA-HEADER_V1          3   1557138432   \n",
       "2  CJS_R_C0012934.ISQ;1  CTDATA-HEADER_V1          3   1038093312   \n",
       "\n",
       "   nr_of_blocks  pat_no  scanner_id        date  n_voxels_x  n_voxels_y  \\\n",
       "0        506886    2745        3309  2011_12_22         768         768   \n",
       "1       3041286    2746        3309  2012_02_10        1536        1536   \n",
       "2       2027526    3643        3309  2013_10_01        1536        1536   \n",
       "\n",
       "   n_voxels_z  total_size_um_x  total_size_um_y  total_size_um_z  \\\n",
       "0         220            62976            62976            18040   \n",
       "1         330           125952           125952            27060   \n",
       "2         220           125952           125952            18040   \n",
       "\n",
       "   slice_thickness_um  pixel_size_um  slice_1_pos_um  min_intensity  \\\n",
       "0                  82             82          107081          -1695   \n",
       "1                  82             82           88161          -2913   \n",
       "2                  82             82          128525         -12332   \n",
       "\n",
       "   max_intensity  mu_scaling  nr_of_samples  nr_of_projections  scan_dist_um  \\\n",
       "0          10801        8192           1536                750        125952   \n",
       "1          11085        8192           1536                750        125952   \n",
       "2          20959        8192           1536                750        125952   \n",
       "\n",
       "   scanner_type  exposure_time  meas_no  site  reference_line_um  recon_algo  \\\n",
       "0             9         100000     9538     4                  0           3   \n",
       "1             9         100000    11111     4                  0           3   \n",
       "2             9         100000    13628     4                  0           3   \n",
       "\n",
       "                                   pat_name  energy_V  intensity_uA  \\\n",
       "0  EUA_001\u0000\u0000\u0000\u0000\u0000\u0000\u0000\u0000\u0000\u0000\u0000\u0000\u0000\u0000\u0000\u0000\u0000\u0000\u0000\u0000\u0000\u0000\u0000\u0000\u0000\u0000\u0000\u0000\u0000\u0000\u0000\u0000\u0000     59400          1000   \n",
       "1  EUA_002                                      59400          1000   \n",
       "2  CJS_3043R                                    59400           900   \n",
       "\n",
       "   data_offset  \n",
       "0            0  \n",
       "1            5  \n",
       "2            5  "
      ]
     },
     "execution_count": 6,
     "metadata": {},
     "output_type": "execute_result"
    }
   ],
   "source": [
    "# create dataframe (=table)\n",
    "isq_headers = pd.DataFrame(all_values, columns = all_keys)\n",
    "\n",
    "# adding column with file names in position 0\n",
    "isq_headers.insert(0, \"file_name\", isq_file_names)\n",
    "\n",
    "# delete column \"fill\" because it just contains zeros\n",
    "isq_headers = isq_headers.drop(columns = [\"fill\"])\n",
    "\n",
    "# show dataframe\n",
    "isq_headers"
   ]
  },
  {
   "cell_type": "markdown",
   "metadata": {},
   "source": [
    "---\n",
    "## 4. Saving the table to a *.csv* or *.xlsx* file  \n",
    "\n",
    "We can save the dataframe to several different file formats. Here we save it as:  \n",
    "- *.csv* (open source)\n",
    "- *.xlsx* (proprietary)  \n"
   ]
  },
  {
   "cell_type": "code",
   "execution_count": 7,
   "metadata": {},
   "outputs": [],
   "source": [
    "# save to csv\n",
    "isq_headers.to_csv(\"images_3309.csv\", index = False)\n",
    "\n",
    "# save to excel\n",
    "# isq_headers.to_excel(\"images_3309.xlsx\", index = False)"
   ]
  },
  {
   "cell_type": "markdown",
   "metadata": {},
   "source": [
    "---\n",
    "## Dependencies"
   ]
  },
  {
   "cell_type": "code",
   "execution_count": 8,
   "metadata": {},
   "outputs": [
    {
     "name": "stdout",
     "output_type": "stream",
     "text": [
      "Python implementation: CPython\n",
      "Python version       : 3.8.5\n",
      "IPython version      : 7.22.0\n",
      "\n",
      "pymsk : 0.1.3\n",
      "pandas: 1.2.4\n",
      "\n",
      "Compiler    : Clang 10.0.0 \n",
      "OS          : Darwin\n",
      "Release     : 20.5.0\n",
      "Machine     : x86_64\n",
      "Processor   : i386\n",
      "CPU cores   : 4\n",
      "Architecture: 64bit\n",
      "\n"
     ]
    }
   ],
   "source": [
    "%load_ext watermark\n",
    "%watermark -v -m -p pymsk,pandas"
   ]
  }
 ],
 "metadata": {
  "kernelspec": {
   "display_name": "Python 3",
   "language": "python",
   "name": "python3"
  },
  "language_info": {
   "codemirror_mode": {
    "name": "ipython",
    "version": 3
   },
   "file_extension": ".py",
   "mimetype": "text/x-python",
   "name": "python",
   "nbconvert_exporter": "python",
   "pygments_lexer": "ipython3",
   "version": "3.8.5"
  },
  "widgets": {
   "application/vnd.jupyter.widget-state+json": {
    "state": {},
    "version_major": 2,
    "version_minor": 0
   }
  }
 },
 "nbformat": 4,
 "nbformat_minor": 4
}
