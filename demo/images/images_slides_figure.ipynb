{
 "cells": [
  {
   "cell_type": "markdown",
   "metadata": {},
   "source": [
    "# Image metadata \n"
   ]
  },
  {
   "cell_type": "markdown",
   "metadata": {},
   "source": [
    "---\n",
    "## 1. Getting the names of the *.isq* files in the folder:"
   ]
  },
  {
   "cell_type": "code",
   "execution_count": 3,
   "metadata": {},
   "outputs": [
    {
     "name": "stdout",
     "output_type": "stream",
     "text": [
      "-> Found 4 .isq files in folder\n"
     ]
    }
   ],
   "source": [
    "folder_content = os.listdir(isq_folder)\n",
    "isq_file_names = [] \n",
    "for file in folder_content: \n",
    "    filename, file_extension = os.path.splitext(isq_folder + file)\n",
    "    if \"isq\" in file_extension or \"ISQ\" in file_extension:\n",
    "        isq_file_names.append(file)        \n",
    "print (\"-> Found \" + str(len(isq_file_names)) + \" .isq files in folder\" )"
   ]
  },
  {
   "cell_type": "markdown",
   "metadata": {},
   "source": [
    "---\n",
    "## 2. Extracting information from image headers  "
   ]
  },
  {
   "cell_type": "code",
   "execution_count": 4,
   "metadata": {},
   "outputs": [],
   "source": [
    "all_keys = []\n",
    "all_values = []\n",
    "for i in range(0, len(isq_file_names)): \n",
    "    current_keys, current_values = scanco_read_files.read_isq_header(isq_folder + isq_file_names[i]) \n",
    "    if i == 0:\n",
    "        all_keys = current_keys\n",
    "    all_values.append(current_values)"
   ]
  },
  {
   "cell_type": "markdown",
   "metadata": {},
   "source": [
    "--- \n",
    "## 3. Creating a metadata table "
   ]
  },
  {
   "cell_type": "code",
   "execution_count": 5,
   "metadata": {},
   "outputs": [
    {
     "data": {
      "text/html": [
       "<div>\n",
       "<style scoped>\n",
       "    .dataframe tbody tr th:only-of-type {\n",
       "        vertical-align: middle;\n",
       "    }\n",
       "\n",
       "    .dataframe tbody tr th {\n",
       "        vertical-align: top;\n",
       "    }\n",
       "\n",
       "    .dataframe thead th {\n",
       "        text-align: right;\n",
       "    }\n",
       "</style>\n",
       "<table border=\"1\" class=\"dataframe\">\n",
       "  <thead>\n",
       "    <tr style=\"text-align: right;\">\n",
       "      <th></th>\n",
       "      <th>file_name</th>\n",
       "      <th>check</th>\n",
       "      <th>data_type</th>\n",
       "      <th>nr_of_bytes</th>\n",
       "      <th>nr_of_blocks</th>\n",
       "      <th>pat_no</th>\n",
       "      <th>scanner_id</th>\n",
       "      <th>date</th>\n",
       "      <th>n_voxels_x</th>\n",
       "      <th>n_voxels_y</th>\n",
       "      <th>...</th>\n",
       "      <th>scanner_type</th>\n",
       "      <th>exposure_time</th>\n",
       "      <th>meas_no</th>\n",
       "      <th>site</th>\n",
       "      <th>reference_line_um</th>\n",
       "      <th>recon_algo</th>\n",
       "      <th>pat_name</th>\n",
       "      <th>energy_V</th>\n",
       "      <th>intensity_uA</th>\n",
       "      <th>data_offset</th>\n",
       "    </tr>\n",
       "  </thead>\n",
       "  <tbody>\n",
       "    <tr>\n",
       "      <th>0</th>\n",
       "      <td>S0006767.ISQ;1</td>\n",
       "      <td>CTDATA-HEADER_V1</td>\n",
       "      <td>3</td>\n",
       "      <td>1557138432</td>\n",
       "      <td>3041286</td>\n",
       "      <td>440</td>\n",
       "      <td>3300</td>\n",
       "      <td>2013_03_27</td>\n",
       "      <td>1536</td>\n",
       "      <td>1536</td>\n",
       "      <td>...</td>\n",
       "      <td>9</td>\n",
       "      <td>100000</td>\n",
       "      <td>1909</td>\n",
       "      <td>4</td>\n",
       "      <td>0</td>\n",
       "      <td>3</td>\n",
       "      <td>MCP_MAIN7</td>\n",
       "      <td>59400</td>\n",
       "      <td>900</td>\n",
       "      <td>5</td>\n",
       "    </tr>\n",
       "    <tr>\n",
       "      <th>1</th>\n",
       "      <td>S0006514.ISQ;1</td>\n",
       "      <td>CTDATA-HEADER_V1</td>\n",
       "      <td>3</td>\n",
       "      <td>1557138432</td>\n",
       "      <td>3041286</td>\n",
       "      <td>426</td>\n",
       "      <td>3300</td>\n",
       "      <td>2013_02_12</td>\n",
       "      <td>1536</td>\n",
       "      <td>1536</td>\n",
       "      <td>...</td>\n",
       "      <td>9</td>\n",
       "      <td>100000</td>\n",
       "      <td>1841</td>\n",
       "      <td>4</td>\n",
       "      <td>0</td>\n",
       "      <td>3</td>\n",
       "      <td>MCP_MAIN2</td>\n",
       "      <td>59400</td>\n",
       "      <td>900</td>\n",
       "      <td>5</td>\n",
       "    </tr>\n",
       "    <tr>\n",
       "      <th>2</th>\n",
       "      <td>S0006589.ISQ;1</td>\n",
       "      <td>CTDATA-HEADER_V1</td>\n",
       "      <td>3</td>\n",
       "      <td>1557138432</td>\n",
       "      <td>3041286</td>\n",
       "      <td>431</td>\n",
       "      <td>3300</td>\n",
       "      <td>2013_02_25</td>\n",
       "      <td>1536</td>\n",
       "      <td>1536</td>\n",
       "      <td>...</td>\n",
       "      <td>9</td>\n",
       "      <td>100000</td>\n",
       "      <td>1863</td>\n",
       "      <td>4</td>\n",
       "      <td>0</td>\n",
       "      <td>3</td>\n",
       "      <td>MCP_MAIN4</td>\n",
       "      <td>59400</td>\n",
       "      <td>900</td>\n",
       "      <td>5</td>\n",
       "    </tr>\n",
       "    <tr>\n",
       "      <th>3</th>\n",
       "      <td>S0006755.ISQ;1</td>\n",
       "      <td>CTDATA-HEADER_V1</td>\n",
       "      <td>3</td>\n",
       "      <td>1557138432</td>\n",
       "      <td>3041286</td>\n",
       "      <td>437</td>\n",
       "      <td>3300</td>\n",
       "      <td>2013_03_26</td>\n",
       "      <td>1536</td>\n",
       "      <td>1536</td>\n",
       "      <td>...</td>\n",
       "      <td>9</td>\n",
       "      <td>100000</td>\n",
       "      <td>1896</td>\n",
       "      <td>4</td>\n",
       "      <td>0</td>\n",
       "      <td>3</td>\n",
       "      <td>MCP_MAIN6</td>\n",
       "      <td>59400</td>\n",
       "      <td>900</td>\n",
       "      <td>5</td>\n",
       "    </tr>\n",
       "  </tbody>\n",
       "</table>\n",
       "<p>4 rows × 33 columns</p>\n",
       "</div>"
      ],
      "text/plain": [
       "        file_name             check  data_type  nr_of_bytes  nr_of_blocks  \\\n",
       "0  S0006767.ISQ;1  CTDATA-HEADER_V1          3   1557138432       3041286   \n",
       "1  S0006514.ISQ;1  CTDATA-HEADER_V1          3   1557138432       3041286   \n",
       "2  S0006589.ISQ;1  CTDATA-HEADER_V1          3   1557138432       3041286   \n",
       "3  S0006755.ISQ;1  CTDATA-HEADER_V1          3   1557138432       3041286   \n",
       "\n",
       "   pat_no  scanner_id        date  n_voxels_x  n_voxels_y  ...  scanner_type  \\\n",
       "0     440        3300  2013_03_27        1536        1536  ...             9   \n",
       "1     426        3300  2013_02_12        1536        1536  ...             9   \n",
       "2     431        3300  2013_02_25        1536        1536  ...             9   \n",
       "3     437        3300  2013_03_26        1536        1536  ...             9   \n",
       "\n",
       "   exposure_time  meas_no  site  reference_line_um  recon_algo  \\\n",
       "0         100000     1909     4                  0           3   \n",
       "1         100000     1841     4                  0           3   \n",
       "2         100000     1863     4                  0           3   \n",
       "3         100000     1896     4                  0           3   \n",
       "\n",
       "                                   pat_name  energy_V  intensity_uA  \\\n",
       "0  MCP_MAIN7                                    59400           900   \n",
       "1  MCP_MAIN2                                    59400           900   \n",
       "2  MCP_MAIN4                                    59400           900   \n",
       "3  MCP_MAIN6                                    59400           900   \n",
       "\n",
       "   data_offset  \n",
       "0            5  \n",
       "1            5  \n",
       "2            5  \n",
       "3            5  \n",
       "\n",
       "[4 rows x 33 columns]"
      ]
     },
     "execution_count": 5,
     "metadata": {},
     "output_type": "execute_result"
    }
   ],
   "source": [
    "isq_headers = pd.DataFrame(all_values, columns = all_keys)\n",
    "isq_headers.insert(0, \"file_name\", isq_file_names)\n",
    "isq_headers = isq_headers.drop(columns = [\"fill\"])\n",
    "isq_headers"
   ]
  },
  {
   "cell_type": "markdown",
   "metadata": {},
   "source": [
    "---\n",
    "## 4. Saving the table to a *.csv* or *.xlsx* file  "
   ]
  },
  {
   "cell_type": "code",
   "execution_count": 6,
   "metadata": {},
   "outputs": [],
   "source": [
    "isq_headers.to_csv(\"images_3300.csv\", index = False)"
   ]
  },
  {
   "cell_type": "markdown",
   "metadata": {},
   "source": [
    "---\n",
    "## Dependencies"
   ]
  },
  {
   "cell_type": "code",
   "execution_count": 7,
   "metadata": {},
   "outputs": [
    {
     "name": "stdout",
     "output_type": "stream",
     "text": [
      "Python implementation: CPython\n",
      "Python version       : 3.8.5\n",
      "IPython version      : 7.22.0\n",
      "\n",
      "pymsk : 0.1.3\n",
      "pandas: 1.2.4\n",
      "\n",
      "Compiler    : Clang 10.0.0 \n",
      "OS          : Darwin\n",
      "Release     : 20.5.0\n",
      "Machine     : x86_64\n",
      "Processor   : i386\n",
      "CPU cores   : 4\n",
      "Architecture: 64bit\n",
      "\n"
     ]
    }
   ],
   "source": [
    "%load_ext watermark\n",
    "%watermark -v -m -p pymsk,pandas"
   ]
  }
 ],
 "metadata": {
  "kernelspec": {
   "display_name": "Python 3",
   "language": "python",
   "name": "python3"
  },
  "language_info": {
   "codemirror_mode": {
    "name": "ipython",
    "version": 3
   },
   "file_extension": ".py",
   "mimetype": "text/x-python",
   "name": "python",
   "nbconvert_exporter": "python",
   "pygments_lexer": "ipython3",
   "version": "3.8.5"
  },
  "widgets": {
   "application/vnd.jupyter.widget-state+json": {
    "state": {},
    "version_major": 2,
    "version_minor": 0
   }
  }
 },
 "nbformat": 4,
 "nbformat_minor": 4
}
