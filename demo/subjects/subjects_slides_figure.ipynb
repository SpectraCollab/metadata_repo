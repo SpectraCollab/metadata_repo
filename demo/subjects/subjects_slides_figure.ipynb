{
 "cells": [
  {
   "cell_type": "markdown",
   "id": "28997948",
   "metadata": {},
   "source": [
    "# Subject metadata"
   ]
  },
  {
   "cell_type": "markdown",
   "id": "b0347f64",
   "metadata": {},
   "source": [
    "---\n",
    "## 1. Getting the names of the *.pdf* files in the folder:"
   ]
  },
  {
   "cell_type": "code",
   "execution_count": 3,
   "id": "27c46863",
   "metadata": {},
   "outputs": [
    {
     "name": "stdout",
     "output_type": "stream",
     "text": [
      "-> Found 4 .pdf files in folder\n"
     ]
    }
   ],
   "source": [
    "folder_content = os.listdir(pdf_folder)\n",
    "pdf_file_names = [] \n",
    "for file in folder_content: \n",
    "    filename, file_extension = os.path.splitext(pdf_folder + file)\n",
    "    if \"pdf\" in file_extension or \"PDF\" in file_extension:\n",
    "        pdf_file_names.append(file)        \n",
    "print (\"-> Found \" + str(len(pdf_file_names)) + \" .pdf files in folder\" )"
   ]
  },
  {
   "cell_type": "markdown",
   "id": "d106fe6d",
   "metadata": {},
   "source": [
    "---\n",
    "## 2. Extracting information from fillable forms"
   ]
  },
  {
   "cell_type": "code",
   "execution_count": 4,
   "id": "0b2036e6",
   "metadata": {},
   "outputs": [],
   "source": [
    "all_keys = []\n",
    "all_values = []\n",
    "for i in range(0, len(pdf_file_names)): \n",
    "    f = PyPDF2.PdfFileReader(pdf_folder + pdf_file_names[i])\n",
    "    ff = f.getFields()\n",
    "    current_keys = list(ff.keys())\n",
    "    current_values = []\n",
    "    for k,v in ff.items():\n",
    "        if \"/V\" in v.keys():\n",
    "            current_values.append(v[\"/V\"])\n",
    "        else:\n",
    "            current_values.append(\"\")\n",
    "    if i == 0:\n",
    "        all_keys = current_keys\n",
    "    all_values.append(current_values)"
   ]
  },
  {
   "cell_type": "markdown",
   "id": "3a9fb6d1",
   "metadata": {},
   "source": [
    "--- \n",
    "## 3. Creating a metadata table "
   ]
  },
  {
   "cell_type": "code",
   "execution_count": 5,
   "id": "2ae2c1f4",
   "metadata": {},
   "outputs": [
    {
     "data": {
      "text/html": [
       "<div>\n",
       "<style scoped>\n",
       "    .dataframe tbody tr th:only-of-type {\n",
       "        vertical-align: middle;\n",
       "    }\n",
       "\n",
       "    .dataframe tbody tr th {\n",
       "        vertical-align: top;\n",
       "    }\n",
       "\n",
       "    .dataframe thead th {\n",
       "        text-align: right;\n",
       "    }\n",
       "</style>\n",
       "<table border=\"1\" class=\"dataframe\">\n",
       "  <thead>\n",
       "    <tr style=\"text-align: right;\">\n",
       "      <th></th>\n",
       "      <th>file_name</th>\n",
       "      <th>time_BL</th>\n",
       "      <th>time_FU_3mo</th>\n",
       "      <th>time_FU_6mo</th>\n",
       "      <th>birth_date</th>\n",
       "      <th>sex</th>\n",
       "      <th>side_per_clinician</th>\n",
       "      <th>height_cm</th>\n",
       "      <th>weight_kg</th>\n",
       "      <th>pat_name</th>\n",
       "      <th>...</th>\n",
       "      <th>side_2</th>\n",
       "      <th>side_3</th>\n",
       "      <th>comments_1</th>\n",
       "      <th>comments_2</th>\n",
       "      <th>comments_3</th>\n",
       "      <th>tech_1</th>\n",
       "      <th>tech_2</th>\n",
       "      <th>tech_3</th>\n",
       "      <th>study_ID</th>\n",
       "      <th>LMP</th>\n",
       "    </tr>\n",
       "  </thead>\n",
       "  <tbody>\n",
       "    <tr>\n",
       "      <th>0</th>\n",
       "      <td>transmittal_3300_subject_1.pdf</td>\n",
       "      <td>x</td>\n",
       "      <td></td>\n",
       "      <td></td>\n",
       "      <td>20 Oct 1960</td>\n",
       "      <td>F</td>\n",
       "      <td>R</td>\n",
       "      <td>160</td>\n",
       "      <td>60</td>\n",
       "      <td>MCP_MAIN7</td>\n",
       "      <td>...</td>\n",
       "      <td></td>\n",
       "      <td></td>\n",
       "      <td></td>\n",
       "      <td></td>\n",
       "      <td></td>\n",
       "      <td>LG</td>\n",
       "      <td></td>\n",
       "      <td></td>\n",
       "      <td>3300_SPECTRA</td>\n",
       "      <td></td>\n",
       "    </tr>\n",
       "    <tr>\n",
       "      <th>1</th>\n",
       "      <td>transmittal_3300_subject_2.pdf</td>\n",
       "      <td>x</td>\n",
       "      <td></td>\n",
       "      <td></td>\n",
       "      <td>10 Mar 1967</td>\n",
       "      <td>F</td>\n",
       "      <td>L</td>\n",
       "      <td>170</td>\n",
       "      <td>65</td>\n",
       "      <td>MCP_MAIN2</td>\n",
       "      <td>...</td>\n",
       "      <td></td>\n",
       "      <td></td>\n",
       "      <td>Subject couldn’t stay still</td>\n",
       "      <td></td>\n",
       "      <td></td>\n",
       "      <td>LG</td>\n",
       "      <td></td>\n",
       "      <td></td>\n",
       "      <td>3300_SPECTRA</td>\n",
       "      <td></td>\n",
       "    </tr>\n",
       "    <tr>\n",
       "      <th>2</th>\n",
       "      <td>transmittal_3300_subject_3.pdf</td>\n",
       "      <td></td>\n",
       "      <td></td>\n",
       "      <td>x</td>\n",
       "      <td>24 Apr 1958</td>\n",
       "      <td>M</td>\n",
       "      <td>L</td>\n",
       "      <td>180</td>\n",
       "      <td>90</td>\n",
       "      <td>MCP_MAIN4</td>\n",
       "      <td>...</td>\n",
       "      <td></td>\n",
       "      <td>L</td>\n",
       "      <td></td>\n",
       "      <td></td>\n",
       "      <td></td>\n",
       "      <td></td>\n",
       "      <td></td>\n",
       "      <td>LG</td>\n",
       "      <td>3300_SPECTRA</td>\n",
       "      <td></td>\n",
       "    </tr>\n",
       "    <tr>\n",
       "      <th>3</th>\n",
       "      <td>transmittal_3300_subject_4.pdf</td>\n",
       "      <td></td>\n",
       "      <td>x</td>\n",
       "      <td></td>\n",
       "      <td>03 Mar 1965</td>\n",
       "      <td>F</td>\n",
       "      <td>L</td>\n",
       "      <td>170</td>\n",
       "      <td>60</td>\n",
       "      <td>MCP_MAIN6</td>\n",
       "      <td>...</td>\n",
       "      <td>L</td>\n",
       "      <td></td>\n",
       "      <td></td>\n",
       "      <td></td>\n",
       "      <td></td>\n",
       "      <td></td>\n",
       "      <td>LG</td>\n",
       "      <td></td>\n",
       "      <td>3300_SPECTRA</td>\n",
       "      <td></td>\n",
       "    </tr>\n",
       "  </tbody>\n",
       "</table>\n",
       "<p>4 rows × 43 columns</p>\n",
       "</div>"
      ],
      "text/plain": [
       "                        file_name time_BL time_FU_3mo time_FU_6mo  \\\n",
       "0  transmittal_3300_subject_1.pdf       x                           \n",
       "1  transmittal_3300_subject_2.pdf       x                           \n",
       "2  transmittal_3300_subject_3.pdf                               x   \n",
       "3  transmittal_3300_subject_4.pdf                   x               \n",
       "\n",
       "    birth_date sex side_per_clinician height_cm weight_kg  \\\n",
       "0  20 Oct 1960   F                  R       160        60   \n",
       "1  10 Mar 1967   F                  L       170        65   \n",
       "2  24 Apr 1958   M                  L       180        90   \n",
       "3  03 Mar 1965   F                  L       170        60   \n",
       "\n",
       "               pat_name  ... side_2 side_3                   comments_1  \\\n",
       "0         MCP_MAIN7      ...                                              \n",
       "1         MCP_MAIN2      ...                Subject couldn’t stay still   \n",
       "2          MCP_MAIN4     ...             L                                \n",
       "3  MCP_MAIN6             ...      L                                       \n",
       "\n",
       "  comments_2 comments_3 tech_1 tech_2 tech_3      study_ID LMP  \n",
       "0                           LG                3300_SPECTRA      \n",
       "1                           LG                3300_SPECTRA      \n",
       "2                                         LG  3300_SPECTRA      \n",
       "3                                  LG         3300_SPECTRA      \n",
       "\n",
       "[4 rows x 43 columns]"
      ]
     },
     "execution_count": 5,
     "metadata": {},
     "output_type": "execute_result"
    }
   ],
   "source": [
    "subjects_info = pd.DataFrame(all_values, columns = all_keys)\n",
    "subjects_info.insert(0, \"file_name\", pdf_file_names)\n",
    "subjects_info"
   ]
  },
  {
   "cell_type": "markdown",
   "id": "839b8ff7",
   "metadata": {},
   "source": [
    "---\n",
    "## 4. Saving the table to a *.csv* or *.xlsx* file  "
   ]
  },
  {
   "cell_type": "code",
   "execution_count": 6,
   "id": "11d01d21",
   "metadata": {},
   "outputs": [],
   "source": [
    "subjects_info.to_csv(\"subjects_info_3300.csv\", index=False)  "
   ]
  },
  {
   "cell_type": "markdown",
   "id": "6b7c6ffe",
   "metadata": {},
   "source": [
    "---\n",
    "## Dependencies"
   ]
  },
  {
   "cell_type": "code",
   "execution_count": 7,
   "id": "20a03d3e",
   "metadata": {},
   "outputs": [
    {
     "name": "stdout",
     "output_type": "stream",
     "text": [
      "Python implementation: CPython\n",
      "Python version       : 3.8.5\n",
      "IPython version      : 7.22.0\n",
      "\n",
      "PyPDF2: 1.26.0\n",
      "pandas: 1.2.4\n",
      "\n",
      "Compiler    : Clang 10.0.0 \n",
      "OS          : Darwin\n",
      "Release     : 20.5.0\n",
      "Machine     : x86_64\n",
      "Processor   : i386\n",
      "CPU cores   : 4\n",
      "Architecture: 64bit\n",
      "\n"
     ]
    }
   ],
   "source": [
    "%load_ext watermark\n",
    "%watermark -v -m -p PyPDF2,pandas"
   ]
  }
 ],
 "metadata": {
  "kernelspec": {
   "display_name": "Python 3",
   "language": "python",
   "name": "python3"
  },
  "language_info": {
   "codemirror_mode": {
    "name": "ipython",
    "version": 3
   },
   "file_extension": ".py",
   "mimetype": "text/x-python",
   "name": "python",
   "nbconvert_exporter": "python",
   "pygments_lexer": "ipython3",
   "version": "3.8.5"
  },
  "widgets": {
   "application/vnd.jupyter.widget-state+json": {
    "state": {},
    "version_major": 2,
    "version_minor": 0
   }
  }
 },
 "nbformat": 4,
 "nbformat_minor": 5
}
