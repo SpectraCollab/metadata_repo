{
 "cells": [
  {
   "cell_type": "markdown",
   "id": "b7c9dc41",
   "metadata": {},
   "source": [
    "# Subject metadata\n",
    "\n",
    "In this notebook, we:\n",
    "- Read subjects' information from fillable forms \n",
    "- Organize the data in a table (Pandas dataframe)\n",
    "- Save the metadata in a tabular format (.xlsx or .csv)\n",
    "\n",
    "Note: Run a separate notebook per each transmittal form template\n",
    "\n",
    "By Serena Bonaretti\n",
    "\n",
    "---"
   ]
  },
  {
   "cell_type": "markdown",
   "id": "763dfe6c",
   "metadata": {},
   "source": [
    "Installations:\n",
    "\n",
    "- If pyPDF2 is not installed on your machine yet, uncomment the code below (remove the #) and run the cell. The line of code will install pyPDF2. After installing, comment out the code (re-insert #) as you won't need to install the library everytime you run this notebook"
   ]
  },
  {
   "cell_type": "code",
   "execution_count": 1,
   "id": "459233bd",
   "metadata": {},
   "outputs": [],
   "source": [
    "#! pip install PyPDF2"
   ]
  },
  {
   "cell_type": "markdown",
   "id": "fcebbd13",
   "metadata": {},
   "source": [
    "---\n",
    "Imports and variables:"
   ]
  },
  {
   "cell_type": "code",
   "execution_count": 2,
   "id": "9fdeb854",
   "metadata": {},
   "outputs": [],
   "source": [
    "import os\n",
    "import pandas as pd\n",
    "import PyPDF2"
   ]
  },
  {
   "cell_type": "code",
   "execution_count": 3,
   "id": "86a858be",
   "metadata": {},
   "outputs": [],
   "source": [
    "pdf_folder = \"./subjects/subjects_3309/\""
   ]
  },
  {
   "cell_type": "markdown",
   "id": "6a1213b1",
   "metadata": {},
   "source": [
    "---\n",
    "## 1. Getting the names of the *.pdf* files in the folder:"
   ]
  },
  {
   "cell_type": "code",
   "execution_count": 4,
   "id": "250273fe",
   "metadata": {},
   "outputs": [
    {
     "name": "stdout",
     "output_type": "stream",
     "text": [
      "-> Found 3 .pdf files in folder:\n",
      "transmittal_3309_subject_1.pdf\n",
      "transmittal_3309_subject_3.pdf\n",
      "transmittal_3309_subject_2.pdf\n"
     ]
    }
   ],
   "source": [
    "# getting the folder content\n",
    "folder_content = os.listdir(pdf_folder)\n",
    "\n",
    "# creating the list for .pdf file names\n",
    "pdf_file_names = [] \n",
    "\n",
    "# getting only .isq files\n",
    "for file in folder_content: \n",
    "    \n",
    "    # getting file extensions\n",
    "    filename, file_extension = os.path.splitext(pdf_folder + file)\n",
    "    \n",
    "    # get only the files with .pdf or .PDF file extension\n",
    "    if \"pdf\" in file_extension or \"PDF\" in file_extension:\n",
    "        pdf_file_names.append(file)\n",
    "        \n",
    "print (\"-> Found \" + str(len(pdf_file_names)) + \" .pdf files in folder:\" )\n",
    "\n",
    "for filename in pdf_file_names:\n",
    "    print (filename)"
   ]
  },
  {
   "cell_type": "markdown",
   "id": "6a505abc",
   "metadata": {},
   "source": [
    "---\n",
    "## 2. Extracting information from fillable forms\n",
    "\n",
    "- To read the fillable forms, we use PyPDF2\n",
    "- For each file, we will get two lists: \n",
    "    - `keys`, containing all the fields (e.g. *sample_ID*, etc.)\n",
    "    - `values`, containing all the actual values (e.g. *440*, etc.)  \n",
    "- Then we save the `keys` of the first subject into the list `all_keys` - we do not need to save the keys for every subject because they are the same   \n",
    "  The values in `all_keys` will become the column names of the table\n",
    "- Finally for each subject, we add the list `values` to the list of lists `all_values`  \n",
    "  The values in `all_values` will become the content of the table"
   ]
  },
  {
   "cell_type": "code",
   "execution_count": 5,
   "id": "029dfd3a",
   "metadata": {},
   "outputs": [],
   "source": [
    "# initializing list containing keys and values\n",
    "all_keys = []\n",
    "all_values = []\n",
    "\n",
    "# for each .pdf file in the folder\n",
    "for i in range(0, len(pdf_file_names)): \n",
    "       \n",
    "    # read fillable form for the current subject\n",
    "    f = PyPDF2.PdfFileReader(pdf_folder + pdf_file_names[i])\n",
    "    ff = f.getFields()\n",
    "    \n",
    "    # get keys for the current subject\n",
    "    current_keys = list(ff.keys())\n",
    "    \n",
    "    # get the values for the current subject\n",
    "    current_values = []\n",
    "    for k,v in ff.items():\n",
    "        if \"/V\" in v.keys():\n",
    "            current_values.append(v[\"/V\"])\n",
    "        else:\n",
    "            current_values.append(\"\")\n",
    "        \n",
    "    # save the keys of the first subject in the variable all_keys\n",
    "    if i == 0:\n",
    "        all_keys = current_keys\n",
    "\n",
    "    # add the values of the current subject to all_values\n",
    "    all_values.append(current_values)\n",
    "    \n",
    "# print (all_keys)\n",
    "# print (all_values)"
   ]
  },
  {
   "cell_type": "markdown",
   "id": "2e906135",
   "metadata": {},
   "source": [
    "--- \n",
    "## 3. Creating a metadata table \n",
    "\n",
    "- We want to create a metadata table containing subject information from *.pdf* headers  \n",
    "  \n",
    "- To handle tables, we use the python package [Pandas](https://pandas.pydata.org/), imported at the beginning of the notebook"
   ]
  },
  {
   "cell_type": "code",
   "execution_count": 6,
   "id": "07a1bc0c",
   "metadata": {},
   "outputs": [],
   "source": [
    "# display all pandas columns and rows \n",
    "pd.options.display.max_rows    = None\n",
    "pd.options.display.max_columns = None"
   ]
  },
  {
   "cell_type": "code",
   "execution_count": 7,
   "id": "f80ab291",
   "metadata": {},
   "outputs": [
    {
     "data": {
      "text/html": [
       "<div>\n",
       "<style scoped>\n",
       "    .dataframe tbody tr th:only-of-type {\n",
       "        vertical-align: middle;\n",
       "    }\n",
       "\n",
       "    .dataframe tbody tr th {\n",
       "        vertical-align: top;\n",
       "    }\n",
       "\n",
       "    .dataframe thead th {\n",
       "        text-align: right;\n",
       "    }\n",
       "</style>\n",
       "<table border=\"1\" class=\"dataframe\">\n",
       "  <thead>\n",
       "    <tr style=\"text-align: right;\">\n",
       "      <th></th>\n",
       "      <th>file_name</th>\n",
       "      <th>birth_date</th>\n",
       "      <th>sex</th>\n",
       "      <th>side_per_clinician</th>\n",
       "      <th>height_cm</th>\n",
       "      <th>pat_name</th>\n",
       "      <th>fractures_surgeries</th>\n",
       "      <th>metal_in_VOI</th>\n",
       "      <th>scanner_id_1</th>\n",
       "      <th>pat_no_1</th>\n",
       "      <th>meas_no_1</th>\n",
       "      <th>ctr_file_1</th>\n",
       "      <th>ref_line_1</th>\n",
       "      <th>saved_scout_1</th>\n",
       "      <th>side_1</th>\n",
       "      <th>comments_1</th>\n",
       "      <th>tech_1</th>\n",
       "      <th>weight_kg</th>\n",
       "      <th>study_ID</th>\n",
       "      <th>time_FU_6mo</th>\n",
       "      <th>time_BL</th>\n",
       "      <th>recent_imaging</th>\n",
       "    </tr>\n",
       "  </thead>\n",
       "  <tbody>\n",
       "    <tr>\n",
       "      <th>0</th>\n",
       "      <td>transmittal_3309_subject_1.pdf</td>\n",
       "      <td>14 Mar 1958</td>\n",
       "      <td>F</td>\n",
       "      <td>L</td>\n",
       "      <td>180</td>\n",
       "      <td>EUA_001</td>\n",
       "      <td>NO</td>\n",
       "      <td>NO</td>\n",
       "      <td>3309</td>\n",
       "      <td>2745</td>\n",
       "      <td>9538</td>\n",
       "      <td>78</td>\n",
       "      <td>208</td>\n",
       "      <td>YES</td>\n",
       "      <td>L</td>\n",
       "      <td></td>\n",
       "      <td>RT</td>\n",
       "      <td>90</td>\n",
       "      <td>3309_HAND</td>\n",
       "      <td></td>\n",
       "      <td>x</td>\n",
       "      <td>NO</td>\n",
       "    </tr>\n",
       "    <tr>\n",
       "      <th>1</th>\n",
       "      <td>transmittal_3309_subject_3.pdf</td>\n",
       "      <td>04 Aug 1955</td>\n",
       "      <td>F</td>\n",
       "      <td>L</td>\n",
       "      <td>175</td>\n",
       "      <td>CJS_3043R</td>\n",
       "      <td>NO</td>\n",
       "      <td>NO</td>\n",
       "      <td>3309</td>\n",
       "      <td>3643</td>\n",
       "      <td>13628</td>\n",
       "      <td>78</td>\n",
       "      <td>206</td>\n",
       "      <td>NO</td>\n",
       "      <td>L</td>\n",
       "      <td></td>\n",
       "      <td>RT</td>\n",
       "      <td>70</td>\n",
       "      <td>3309_HAND</td>\n",
       "      <td></td>\n",
       "      <td>x</td>\n",
       "      <td>NO</td>\n",
       "    </tr>\n",
       "    <tr>\n",
       "      <th>2</th>\n",
       "      <td>transmittal_3309_subject_2.pdf</td>\n",
       "      <td>15 Jun 1970</td>\n",
       "      <td>M</td>\n",
       "      <td>R</td>\n",
       "      <td>173</td>\n",
       "      <td>EUA_002</td>\n",
       "      <td>Hand surgery</td>\n",
       "      <td>NO</td>\n",
       "      <td>3309</td>\n",
       "      <td>2746</td>\n",
       "      <td>11111</td>\n",
       "      <td>77</td>\n",
       "      <td>204</td>\n",
       "      <td>YES</td>\n",
       "      <td>R</td>\n",
       "      <td></td>\n",
       "      <td>RT</td>\n",
       "      <td>65</td>\n",
       "      <td>3309_HAND</td>\n",
       "      <td>x</td>\n",
       "      <td>x</td>\n",
       "      <td>MRI</td>\n",
       "    </tr>\n",
       "  </tbody>\n",
       "</table>\n",
       "</div>"
      ],
      "text/plain": [
       "                        file_name   birth_date sex side_per_clinician  \\\n",
       "0  transmittal_3309_subject_1.pdf  14 Mar 1958   F                  L   \n",
       "1  transmittal_3309_subject_3.pdf  04 Aug 1955   F                  L   \n",
       "2  transmittal_3309_subject_2.pdf  15 Jun 1970   M                  R   \n",
       "\n",
       "  height_cm   pat_name fractures_surgeries metal_in_VOI scanner_id_1 pat_no_1  \\\n",
       "0       180    EUA_001                  NO           NO         3309     2745   \n",
       "1       175  CJS_3043R                  NO           NO         3309     3643   \n",
       "2       173    EUA_002        Hand surgery           NO         3309     2746   \n",
       "\n",
       "  meas_no_1 ctr_file_1 ref_line_1 saved_scout_1 side_1 comments_1 tech_1  \\\n",
       "0      9538         78        208           YES      L                RT   \n",
       "1     13628         78        206            NO      L                RT   \n",
       "2     11111         77        204           YES      R                RT   \n",
       "\n",
       "  weight_kg   study_ID time_FU_6mo time_BL recent_imaging  \n",
       "0        90  3309_HAND                   x             NO  \n",
       "1        70  3309_HAND                   x             NO  \n",
       "2        65  3309_HAND           x       x            MRI  "
      ]
     },
     "execution_count": 7,
     "metadata": {},
     "output_type": "execute_result"
    }
   ],
   "source": [
    "# create dataframe (=table)\n",
    "subjects_info = pd.DataFrame(all_values, columns = all_keys)\n",
    "\n",
    "# adding column with file names in position 0\n",
    "subjects_info.insert(0, \"file_name\", pdf_file_names)\n",
    "\n",
    "# show dataframe\n",
    "subjects_info"
   ]
  },
  {
   "cell_type": "markdown",
   "id": "76406791",
   "metadata": {},
   "source": [
    "- If in the transmittal form there are several fields for *meas_no*, we merge them \n",
    "  - Note: This step is needed when merging tables containing information about subjects, protocols, and image information (see notebook merge_and_query.ipynb)"
   ]
  },
  {
   "cell_type": "code",
   "execution_count": 8,
   "id": "d8b4bc45",
   "metadata": {},
   "outputs": [
    {
     "name": "stdout",
     "output_type": "stream",
     "text": [
      "0     Renaming 9538 to meas_no\n",
      "1    Renaming 13628 to meas_no\n",
      "2    Renaming 11111 to meas_no\n",
      "Name: meas_no_1, dtype: object\n"
     ]
    }
   ],
   "source": [
    "# find all the fields containing meas_no\n",
    "meas_no_fields = []\n",
    "for field in subjects_info.columns:\n",
    "    if \"meas_no\" in field:\n",
    "        meas_no_fields.append(field)\n",
    "\n",
    "# if there are more than 1, we need to merge them\n",
    "if len(meas_no_fields) > 1:\n",
    "    \n",
    "    print (\"Merging the columns \" + str(meas_no_fields) + \" in one column called meas_no\")\n",
    "    \n",
    "    # prepare data or the merging\n",
    "    for field in meas_no_fields:\n",
    "        # replace empty cells with 0\n",
    "        subjects_info[field] = subjects_info[field].replace({\"\": \"0\"})\n",
    "        # transform cell content from strings to integers\n",
    "        subjects_info[field] = subjects_info[field].astype(int)\n",
    "   \n",
    "    # rename the first column contaning meas_no_x to meas_no \n",
    "    subjects_info = subjects_info.rename(columns={meas_no_fields[0]: \"meas_no\"})\n",
    "    # merge all cells to the first one\n",
    "    for i in range (1, len(meas_no_fields)):\n",
    "        subjects_info[\"meas_no\"] += subjects_info[meas_no_fields[i]]\n",
    "        # delete the column that got merged\n",
    "        subjects_info = subjects_info.drop(columns=[meas_no_fields[i]])\n",
    "    \n",
    "    # make sure the resulting column contains integers\n",
    "    subjects_info['meas_no'] = subjects_info['meas_no'].astype(int)\n",
    "    \n",
    "# if there is only 1, we have to make sure it is called meas_no\n",
    "else:\n",
    "    if meas_no_fields[0] != \"meas_no\":\n",
    "        print (\"Renaming \" + subjects_info[meas_no_fields[0]] + \" to meas_no\")\n",
    "        subjects_info = subjects_info.rename(columns={meas_no_fields[0]: \"meas_no\"})\n",
    "    else:\n",
    "        print (\"No change needed for the column meas_no\")"
   ]
  },
  {
   "cell_type": "markdown",
   "id": "62037bb0",
   "metadata": {},
   "source": [
    "---\n",
    "## 4. Saving the table to a *.csv* or *.xlsx* file  \n",
    "\n",
    "We can save the dataframe to several different file formats. Here we save it as:  \n",
    "- *.csv* (open source)\n",
    "- *.xlsx* (proprietary)  \n"
   ]
  },
  {
   "cell_type": "code",
   "execution_count": 9,
   "id": "d0e4f6bd",
   "metadata": {},
   "outputs": [],
   "source": [
    "# save to csv\n",
    "subjects_info.to_csv(\"subjects_info_3309.csv\", index=False)\n",
    "\n",
    "# save to excel\n",
    "# subjects_info.to_excel(pdf_folder + \"subjects_info_3300.xlsx\", index=False)"
   ]
  },
  {
   "cell_type": "markdown",
   "id": "451b11af",
   "metadata": {},
   "source": [
    "---\n",
    "## Dependencies"
   ]
  },
  {
   "cell_type": "code",
   "execution_count": 10,
   "id": "139befb4",
   "metadata": {},
   "outputs": [
    {
     "name": "stdout",
     "output_type": "stream",
     "text": [
      "Python implementation: CPython\n",
      "Python version       : 3.8.5\n",
      "IPython version      : 7.22.0\n",
      "\n",
      "PyPDF2: 1.26.0\n",
      "pandas: 1.2.4\n",
      "\n",
      "Compiler    : Clang 10.0.0 \n",
      "OS          : Darwin\n",
      "Release     : 20.5.0\n",
      "Machine     : x86_64\n",
      "Processor   : i386\n",
      "CPU cores   : 4\n",
      "Architecture: 64bit\n",
      "\n"
     ]
    }
   ],
   "source": [
    "%load_ext watermark\n",
    "%watermark -v -m -p PyPDF2,pandas"
   ]
  }
 ],
 "metadata": {
  "kernelspec": {
   "display_name": "Python 3",
   "language": "python",
   "name": "python3"
  },
  "language_info": {
   "codemirror_mode": {
    "name": "ipython",
    "version": 3
   },
   "file_extension": ".py",
   "mimetype": "text/x-python",
   "name": "python",
   "nbconvert_exporter": "python",
   "pygments_lexer": "ipython3",
   "version": "3.8.5"
  },
  "widgets": {
   "application/vnd.jupyter.widget-state+json": {
    "state": {},
    "version_major": 2,
    "version_minor": 0
   }
  }
 },
 "nbformat": 4,
 "nbformat_minor": 5
}
